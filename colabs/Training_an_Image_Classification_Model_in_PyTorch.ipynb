{
  "nbformat": 4,
  "nbformat_minor": 0,
  "metadata": {
    "colab": {
      "name": "Training an Image Classification Model in PyTorch",
      "provenance": [],
      "include_colab_link": true
    },
    "kernelspec": {
      "name": "python3",
      "display_name": "Python 3"
    },
    "language_info": {
      "name": "python"
    }
  },
  "cells": [
    {
      "cell_type": "markdown",
      "metadata": {
        "id": "view-in-github",
        "colab_type": "text"
      },
      "source": [
        "<a href=\"https://colab.research.google.com/github/gecko17k/Learning_Deep_Learning/blob/main/colabs/Training_an_Image_Classification_Model_in_PyTorch.ipynb\" target=\"_parent\"><img src=\"https://colab.research.google.com/assets/colab-badge.svg\" alt=\"Open In Colab\"/></a>"
      ]
    },
    {
      "cell_type": "markdown",
      "metadata": {
        "id": "lKU8kmSs65xv"
      },
      "source": [
        "# ***Training an Image Classification Model in PyTorch***\n",
        "\n"
      ]
    },
    {
      "cell_type": "markdown",
      "metadata": {
        "id": "3zK9b4yiMRzB"
      },
      "source": [
        "#### The primary objective for Hub is to enable users to manage their data more easily so they can train better ML models. This tutorial shows you how to train a simple image classification model while streaming data from a Hub dataset stored in the cloud."
      ]
    },
    {
      "cell_type": "markdown",
      "metadata": {
        "id": "3UseHLcoRIYz"
      },
      "source": [
        "## Install Hub"
      ]
    },
    {
      "cell_type": "code",
      "metadata": {
        "id": "l5mOffq5RN-T"
      },
      "source": [
        "from IPython.display import clear_output\n",
        "!pip3 install hub\n",
        "clear_output()"
      ],
      "execution_count": 1,
      "outputs": []
    },
    {
      "cell_type": "markdown",
      "metadata": {
        "id": "7wGo53ndMTCB"
      },
      "source": [
        "## Data Preprocessing\n"
      ]
    },
    {
      "cell_type": "markdown",
      "metadata": {
        "id": "52h9xKujOJFs"
      },
      "source": [
        "The first step is to select a dataset for training. This tutorial uses the [Fashion MNIST](https://github.com/zalandoresearch/fashion-mnist) dataset that has already been converted into hub format. It is a simple image classification dataset that categorizes images by clothing type (trouser, shirt, etc.)"
      ]
    },
    {
      "cell_type": "code",
      "metadata": {
        "outputId": "5e78931d-0145-41d9-81d8-b72a66905002",
        "colab": {
          "base_uri": "https://localhost:8080/",
          "height": 53
        },
        "id": "IVYoSkpuqPvi"
      },
      "source": [
        "#Original hub load cell\n",
        "\"\"\"\n",
        "import hub\n",
        "from PIL import Image\n",
        "import numpy as np\n",
        "import os, time\n",
        "import torch\n",
        "from torchvision import datasets, transforms, models\n",
        "\n",
        "ds_train = hub.load('hub://activeloop/fashion-mnist-train')\n",
        "ds_test = hub.load('hub://activeloop/fashion-mnist-test')\n",
        "\"\"\""
      ],
      "execution_count": 4,
      "outputs": [
        {
          "output_type": "execute_result",
          "data": {
            "text/plain": [
              "\"\\nimport hub\\nfrom PIL import Image\\nimport numpy as np\\nimport os, time\\nimport torch\\nfrom torchvision import datasets, transforms, models\\n\\nds_train = hub.load('hub://activeloop/fashion-mnist-train')\\nds_test = hub.load('hub://activeloop/fashion-mnist-test')\\n\""
            ],
            "application/vnd.google.colaboratory.intrinsic+json": {
              "type": "string"
            }
          },
          "metadata": {},
          "execution_count": 4
        }
      ]
    },
    {
      "cell_type": "code",
      "metadata": {
        "id": "neD2jhKDQ5WD"
      },
      "source": [
        "from PIL import Image\n",
        "import numpy as np\n",
        "import time\n",
        "import torch\n",
        "from torchvision import datasets, transforms, models"
      ],
      "execution_count": 18,
      "outputs": []
    },
    {
      "cell_type": "code",
      "metadata": {
        "colab": {
          "base_uri": "https://localhost:8080/"
        },
        "id": "99803e31",
        "outputId": "8b0f4cff-0586-4a64-a09b-e2635b17c8f9"
      },
      "source": [
        "# written by Gemini when I pointed out that I didn't have access to the data.\n",
        "\n",
        "# Download Fashion MNIST dataset\n",
        "ds_train = datasets.FashionMNIST(root='./data', train=True, download=True)\n",
        "ds_test = datasets.FashionMNIST(root='./data', train=False, download=True)\n",
        "\n",
        "print(\"Fashion MNIST dataset downloaded successfully!\")"
      ],
      "execution_count": 22,
      "outputs": [
        {
          "output_type": "stream",
          "name": "stdout",
          "text": [
            "Fashion MNIST dataset downloaded successfully!\n"
          ]
        }
      ]
    },
    {
      "cell_type": "code",
      "metadata": {
        "id": "m0jtotSNzeJ0",
        "colab": {
          "base_uri": "https://localhost:8080/",
          "height": 117
        },
        "outputId": "340fab24-23a8-4d80-bc71-a3addfb8087e"
      },
      "source": [
        "ds_train[0][0].resize((100,100))"
      ],
      "execution_count": 23,
      "outputs": [
        {
          "output_type": "execute_result",
          "data": {
            "text/plain": [
              "<PIL.Image.Image image mode=L size=100x100>"
            ],
            "image/png": "[encoded data removed]",
            "image/jpeg": "[encoded data removed]"
          },
          "metadata": {},
          "execution_count": 23
        }
      ]
    },
    {
      "cell_type": "code",
      "metadata": {
        "id": "jPSz9kml03Aa",
        "colab": {
          "base_uri": "https://localhost:8080/"
        },
        "outputId": "d6a0e5ca-f364-4a58-ff94-d1e8e2cff52b"
      },
      "source": [
        "print(ds_train.classes[ds_train[0][1]])"
      ],
      "execution_count": 25,
      "outputs": [
        {
          "output_type": "stream",
          "name": "stdout",
          "text": [
            "Ankle boot\n"
          ]
        }
      ]
    },
    {
      "cell_type": "markdown",
      "metadata": {
        "id": "Np5fIbViHlCu"
      },
      "source": [
        "The next step is to define a transformation function that will process the data and convert it into a format that can be passed into a deep learning model. In this particular example, `torchvision.transforms` is used as a part of the transformation pipeline that performs operations such as normalization and image augmentation (rotation)."
      ]
    },
    {
      "cell_type": "code",
      "metadata": {
        "id": "WqdWgumwQ1d6"
      },
      "source": [
        "tform = transforms.Compose([\n",
        "    transforms.RandomRotation(20), # Image augmentation\n",
        "    transforms.ToTensor(), # Must convert to pytorch tensor for subsequent operations to run\n",
        "    transforms.Normalize([0.5], [0.5]),\n",
        "])"
      ],
      "execution_count": 42,
      "outputs": []
    },
    {
      "cell_type": "markdown",
      "metadata": {
        "id": "DGmWr44PIQMk"
      },
      "source": [
        "You can now create a pytorch dataloader that connects the Hub dataset to the PyTorch model using the provided method `ds.pytorch()`. This method automatically applies the transformation function, takes care of random shuffling (if desired), and converts hub data to PyTorch tensors. The `num_workers` parameter can be used to parallelize data preprocessing, which is critical for ensuring that preprocessing does not bottleneck the overall training workflow.\n",
        "\n",
        "The `transform` input is a dictionary where the `key` is the tensor name and the `value` is the transformation function that should be applied to that tensor. If a specific tensor's data does not need to be returned, it should be omitted from the keys. If a tensor's data does not need to be modified during preprocessing, the transformation function is set as `None`."
      ]
    },
    {
      "cell_type": "code",
      "metadata": {
        "colab": {
          "base_uri": "https://localhost:8080/",
          "height": 53
        },
        "outputId": "3f28c854-5a27-4985-9677-1de3f40f3ddf",
        "id": "nObAJrXAuOyi"
      },
      "source": [
        "#original\n",
        "\"\"\"\n",
        "from torch.utils.data import DataLoader\n",
        "\n",
        "batch_size = 32\n",
        "\n",
        "train_loader = DataLoader(ds_train, batch_size=batch_size, shuffle=True, num_workers=0)\n",
        "test_loader = DataLoader(ds_test, batch_size=batch_size, shuffle=False, num_workers=0)\n",
        "\"\"\"\n"
      ],
      "execution_count": 43,
      "outputs": [
        {
          "output_type": "execute_result",
          "data": {
            "text/plain": [
              "'\\nfrom torch.utils.data import DataLoader\\n\\nbatch_size = 32\\n\\ntrain_loader = DataLoader(ds_train, batch_size=batch_size, shuffle=True, num_workers=0)\\ntest_loader = DataLoader(ds_test, batch_size=batch_size, shuffle=False, num_workers=0)\\n'"
            ],
            "application/vnd.google.colaboratory.intrinsic+json": {
              "type": "string"
            }
          },
          "metadata": {},
          "execution_count": 43
        }
      ]
    },
    {
      "cell_type": "code",
      "metadata": {
        "id": "MeiU4LobROdE"
      },
      "source": [
        "from torch.utils.data import DataLoader\n",
        "\n",
        "batch_size = 32\n",
        "\n",
        "# Apply the transformation when creating the DataLoaders\n",
        "train_loader = DataLoader(ds_train, batch_size=batch_size, shuffle=True, num_workers=0, collate_fn=lambda x: (torch.stack([tform(item[0]) for item in x]), torch.tensor([item[1] for item in x])))\n",
        "test_loader = DataLoader(ds_test, batch_size=batch_size, shuffle=False, num_workers=0, collate_fn=lambda x: (torch.stack([tform(item[0]) for item in x]), torch.tensor([item[1] for item in x])))"
      ],
      "execution_count": 49,
      "outputs": []
    },
    {
      "cell_type": "code",
      "metadata": {
        "id": "2Dco8HW9ROXS"
      },
      "source": [
        "# device = torch.device(\"cuda\" if torch.cuda.is_available() else \"cpu\")\n",
        "device = torch.device(\"cpu\")"
      ],
      "execution_count": 50,
      "outputs": []
    },
    {
      "cell_type": "markdown",
      "metadata": {
        "id": "Snt5b6qwIZQ_"
      },
      "source": [
        "## Model Definition"
      ]
    },
    {
      "cell_type": "markdown",
      "metadata": {
        "id": "e5LZrDU4I1GO"
      },
      "source": [
        "This tutorial uses a pre-trained [ResNet18](https://pytorch.org/hub/pytorch_vision_resnet/) neural network from the torchvision.models module, converted to a single-channel network for grayscale images."
      ]
    },
    {
      "cell_type": "code",
      "metadata": {
        "id": "GRBRaROLROUf"
      },
      "source": [
        "# Simple model can be trained on a CPU\n",
        "net = models.resnet18(weights='IMAGENET1K_V1') # Use weights argument instead of pretrained\n",
        "# Convert model to grayscale\n",
        "net.conv1 = torch.nn.Conv2d(1, 64, kernel_size=7, stride=2, padding=3, bias=False)\n",
        "\n",
        "# Update the fully connected layer based on the number of classes in the dataset\n",
        "net.fc = torch.nn.Linear(net.fc.in_features, len(ds_train.classes))\n",
        "\n",
        "net.to(device)\n",
        "\n",
        "# Specity the loss function and optimizer\n",
        "criterion = torch.nn.CrossEntropyLoss()\n",
        "optimizer = torch.optim.SGD(net.parameters(), lr=0.001, momentum=0.1)"
      ],
      "execution_count": 51,
      "outputs": []
    },
    {
      "cell_type": "markdown",
      "metadata": {
        "id": "8sVS5lTFI-gZ"
      },
      "source": [
        "## Training the Model"
      ]
    },
    {
      "cell_type": "markdown",
      "metadata": {
        "id": "V65Xr8aBJCUL"
      },
      "source": [
        "Helper functions for training and testing the model are defined. Note that the dictionary that is returned by the transform function in the PyTorch dataloader is access here and is passed into the model."
      ]
    },
    {
      "cell_type": "code",
      "metadata": {
        "id": "BohFcDLZvbBn"
      },
      "source": [
        "#original\n",
        "\"\"\"\n",
        "#def train_model(loader, test_loader, model, epochs = 1):\n",
        "    for epoch in range(epochs):  # loop over the dataset multiple times\n",
        "\n",
        "        # Zero the performance stats for each epoch\n",
        "        running_loss = 0.0\n",
        "        start_time = time.time()\n",
        "        total = 0\n",
        "        correct = 0\n",
        "\n",
        "        for i, data in enumerate(loader):\n",
        "            # get the inputs; data is a list of [inputs, labels]\n",
        "            inputs, labels = data\n",
        "\n",
        "            inputs = inputs.to(device)\n",
        "            labels = labels.to(device)\n",
        "\n",
        "            # zero the parameter gradients\n",
        "            optimizer.zero_grad()\n",
        "\n",
        "            # forward + backward + optimize\n",
        "            outputs = model(inputs.float())\n",
        "            loss = criterion(outputs, labels)\n",
        "            loss.backward()\n",
        "            optimizer.step()\n",
        "\n",
        "            _, predicted = torch.max(outputs.data, 1)\n",
        "            total += labels.size(0)\n",
        "            correct += (predicted == labels).sum().item()\n",
        "            accuracy = 100 * correct / total\n",
        "\n",
        "            # Print performance statistics\n",
        "            running_loss += loss.item()\n",
        "            if i % 10 == 0:    # print every 10 batches\n",
        "                batch_time = time.time()\n",
        "                speed = (i+1)/(batch_time-start_time)\n",
        "                print('[%d, %5d] loss: %.3f, speed: %.2f, accuracy: %.2f %%' %\n",
        "                      (epoch + 1, i, running_loss, speed, accuracy))\n",
        "\n",
        "                running_loss = 0.0\n",
        "\n",
        "        print('Testing Model Performance')\n",
        "        test_model(test_loader, model)\n",
        "\n",
        "    print('Finished Training')\n",
        "\n",
        "\n",
        "def test_model(loader, model):\n",
        "    start_time = time.time()\n",
        "    total = 0\n",
        "    correct = 0\n",
        "    with torch.no_grad():\n",
        "        for i, data in enumerate(loader):\n",
        "            # get the inputs; data is a list of [inputs, labels]\n",
        "            inputs, labels = data\n",
        "\n",
        "            inputs = inputs.to(device)\n",
        "            labels = labels.to(device)\n",
        "\n",
        "            # zero the parameter gradients\n",
        "            optimizer.zero_grad()\n",
        "\n",
        "            # forward + backward + optimize\n",
        "            outputs = model(inputs.float())\n",
        "\n",
        "            _, predicted = torch.max(outputs.data, 1)\n",
        "            total += labels.size(0)\n",
        "            correct += (predicted == labels).sum().item()\n",
        "        accuracy = 100 * correct / total\n",
        "\n",
        "        print('Finished Testing')\n",
        "        print('Testing accuracy: %.1f %%' %(accuracy))\n",
        "        \"\"\""
      ],
      "execution_count": null,
      "outputs": []
    },
    {
      "cell_type": "code",
      "metadata": {
        "id": "W6cQJkHeJGtk"
      },
      "source": [
        "def train_model(loader, test_loader, model, epochs = 2):\n",
        "    for epoch in range(epochs):  # loop over the dataset multiple times\n",
        "\n",
        "        # Zero the performance stats for each epoch\n",
        "        running_loss = 0.0\n",
        "        start_time = time.time()\n",
        "        total = 0\n",
        "        correct = 0\n",
        "\n",
        "        for i, data in enumerate(loader):\n",
        "            # get the inputs; data is a list of [inputs, labels]\n",
        "            inputs, labels = data\n",
        "\n",
        "            inputs = inputs.to(device)\n",
        "            labels = labels.to(device)\n",
        "\n",
        "            # zero the parameter gradients\n",
        "            optimizer.zero_grad()\n",
        "\n",
        "            # forward + backward + optimize\n",
        "            outputs = model(inputs.float())\n",
        "            loss = criterion(outputs, labels)\n",
        "            loss.backward()\n",
        "            optimizer.step()\n",
        "\n",
        "            _, predicted = torch.max(outputs.data, 1)\n",
        "            total += labels.size(0)\n",
        "            correct += (predicted == labels).sum().item()\n",
        "            accuracy = 100 * correct / total\n",
        "\n",
        "            # Print performance statistics\n",
        "            running_loss += loss.item()\n",
        "            if i % 10 == 0:    # print every 10 batches\n",
        "                batch_time = time.time()\n",
        "                speed = (i+1)/(batch_time-start_time)\n",
        "                print('[%d, %5d] loss: %.3f, speed: %.2f, accuracy: %.2f %%' %\n",
        "                      (epoch + 1, i, running_loss, speed, accuracy))\n",
        "\n",
        "                running_loss = 0.0\n",
        "\n",
        "        print('Testing Model Performance')\n",
        "        test_model(test_loader, model)\n",
        "\n",
        "    print('Finished Training')\n",
        "\n",
        "\n",
        "def test_model(loader, model):\n",
        "    start_time = time.time()\n",
        "    total = 0\n",
        "    correct = 0\n",
        "    with torch.no_grad():\n",
        "        for i, data in enumerate(loader):\n",
        "            # get the inputs; data is a list of [inputs, labels]\n",
        "            inputs, labels = data\n",
        "\n",
        "            inputs = inputs.to(device)\n",
        "            labels = labels.to(device)\n",
        "\n",
        "            # zero the parameter gradients\n",
        "            optimizer.zero_grad()\n",
        "\n",
        "            # forward + backward + optimize\n",
        "            outputs = model(inputs.float())\n",
        "\n",
        "            _, predicted = torch.max(outputs.data, 1)\n",
        "            total += labels.size(0)\n",
        "            correct += (predicted == labels).sum().item()\n",
        "        accuracy = 100 * correct / total\n",
        "\n",
        "        print('Finished Testing')\n",
        "        print('Testing accuracy: %.1f %%' %(accuracy))"
      ],
      "execution_count": 54,
      "outputs": []
    },
    {
      "cell_type": "markdown",
      "metadata": {
        "id": "vQWzFjzLJINu"
      },
      "source": [
        "The model and data are ready for training. Let's gooooooooooo 🚀!"
      ]
    },
    {
      "cell_type": "code",
      "metadata": {
        "id": "fMhm4VjDRf7i",
        "colab": {
          "base_uri": "https://localhost:8080/"
        },
        "outputId": "d46fbaa0-a9c5-4bc3-9106-b3bebb9ed6d7"
      },
      "source": [
        "train_model(train_loader, test_loader, net, epochs = 1)"
      ],
      "execution_count": 55,
      "outputs": [
        {
          "output_type": "stream",
          "name": "stdout",
          "text": [
            "[1,     0] loss: 2.638, speed: 1.15, accuracy: 3.12 %\n",
            "[1,    10] loss: 24.829, speed: 1.73, accuracy: 14.49 %\n",
            "[1,    20] loss: 21.740, speed: 1.92, accuracy: 16.82 %\n",
            "[1,    30] loss: 20.378, speed: 1.92, accuracy: 20.06 %\n",
            "[1,    40] loss: 18.951, speed: 1.98, accuracy: 24.01 %\n",
            "[1,    50] loss: 18.494, speed: 2.03, accuracy: 26.47 %\n",
            "[1,    60] loss: 18.088, speed: 2.00, accuracy: 28.23 %\n",
            "[1,    70] loss: 17.473, speed: 2.04, accuracy: 29.18 %\n",
            "[1,    80] loss: 15.654, speed: 2.06, accuracy: 31.44 %\n",
            "[1,    90] loss: 15.580, speed: 2.04, accuracy: 32.93 %\n",
            "[1,   100] loss: 14.906, speed: 2.06, accuracy: 34.28 %\n",
            "[1,   110] loss: 13.194, speed: 2.05, accuracy: 36.32 %\n",
            "[1,   120] loss: 13.311, speed: 2.06, accuracy: 37.71 %\n",
            "[1,   130] loss: 13.700, speed: 2.07, accuracy: 38.86 %\n",
            "[1,   140] loss: 12.192, speed: 2.05, accuracy: 40.25 %\n",
            "[1,   150] loss: 12.412, speed: 2.06, accuracy: 41.35 %\n",
            "[1,   160] loss: 12.753, speed: 2.07, accuracy: 42.24 %\n",
            "[1,   170] loss: 11.683, speed: 2.06, accuracy: 43.26 %\n",
            "[1,   180] loss: 11.616, speed: 2.07, accuracy: 44.32 %\n",
            "[1,   190] loss: 10.845, speed: 2.06, accuracy: 45.16 %\n",
            "[1,   200] loss: 11.886, speed: 2.07, accuracy: 45.69 %\n",
            "[1,   210] loss: 10.724, speed: 2.08, accuracy: 46.62 %\n",
            "[1,   220] loss: 11.048, speed: 2.07, accuracy: 47.36 %\n",
            "[1,   230] loss: 10.776, speed: 2.08, accuracy: 47.97 %\n",
            "[1,   240] loss: 9.981, speed: 2.08, accuracy: 48.66 %\n",
            "[1,   250] loss: 10.301, speed: 2.08, accuracy: 49.40 %\n",
            "[1,   260] loss: 10.138, speed: 2.08, accuracy: 49.99 %\n",
            "[1,   270] loss: 11.098, speed: 2.08, accuracy: 50.40 %\n",
            "[1,   280] loss: 9.799, speed: 2.08, accuracy: 50.92 %\n",
            "[1,   290] loss: 10.699, speed: 2.09, accuracy: 51.35 %\n",
            "[1,   300] loss: 10.292, speed: 2.08, accuracy: 51.65 %\n",
            "[1,   310] loss: 10.094, speed: 2.09, accuracy: 51.98 %\n",
            "[1,   320] loss: 9.060, speed: 2.09, accuracy: 52.45 %\n",
            "[1,   330] loss: 8.826, speed: 2.09, accuracy: 52.93 %\n",
            "[1,   340] loss: 10.325, speed: 2.09, accuracy: 53.26 %\n",
            "[1,   350] loss: 9.364, speed: 2.09, accuracy: 53.62 %\n",
            "[1,   360] loss: 9.771, speed: 2.09, accuracy: 53.97 %\n",
            "[1,   370] loss: 10.192, speed: 2.10, accuracy: 54.24 %\n",
            "[1,   380] loss: 8.724, speed: 2.09, accuracy: 54.54 %\n",
            "[1,   390] loss: 9.646, speed: 2.09, accuracy: 54.84 %\n",
            "[1,   400] loss: 8.668, speed: 2.10, accuracy: 55.16 %\n",
            "[1,   410] loss: 9.069, speed: 2.09, accuracy: 55.42 %\n",
            "[1,   420] loss: 8.777, speed: 2.09, accuracy: 55.77 %\n",
            "[1,   430] loss: 8.572, speed: 2.09, accuracy: 56.10 %\n",
            "[1,   440] loss: 9.075, speed: 2.09, accuracy: 56.38 %\n",
            "[1,   450] loss: 7.996, speed: 2.09, accuracy: 56.77 %\n",
            "[1,   460] loss: 7.795, speed: 2.09, accuracy: 57.14 %\n",
            "[1,   470] loss: 7.772, speed: 2.09, accuracy: 57.38 %\n",
            "[1,   480] loss: 6.969, speed: 2.10, accuracy: 57.75 %\n",
            "[1,   490] loss: 9.306, speed: 2.09, accuracy: 57.96 %\n",
            "[1,   500] loss: 9.124, speed: 2.10, accuracy: 58.15 %\n",
            "[1,   510] loss: 8.222, speed: 2.09, accuracy: 58.41 %\n",
            "[1,   520] loss: 8.680, speed: 2.09, accuracy: 58.65 %\n",
            "[1,   530] loss: 8.709, speed: 2.10, accuracy: 58.87 %\n",
            "[1,   540] loss: 9.467, speed: 2.09, accuracy: 58.98 %\n",
            "[1,   550] loss: 7.644, speed: 2.09, accuracy: 59.24 %\n",
            "[1,   560] loss: 8.989, speed: 2.09, accuracy: 59.40 %\n",
            "[1,   570] loss: 8.687, speed: 2.09, accuracy: 59.62 %\n",
            "[1,   580] loss: 8.122, speed: 2.09, accuracy: 59.84 %\n",
            "[1,   590] loss: 8.412, speed: 2.09, accuracy: 60.01 %\n",
            "[1,   600] loss: 7.389, speed: 2.09, accuracy: 60.23 %\n",
            "[1,   610] loss: 7.650, speed: 2.09, accuracy: 60.44 %\n",
            "[1,   620] loss: 7.810, speed: 2.09, accuracy: 60.60 %\n",
            "[1,   630] loss: 8.186, speed: 2.09, accuracy: 60.75 %\n",
            "[1,   640] loss: 7.501, speed: 2.09, accuracy: 60.98 %\n",
            "[1,   650] loss: 7.946, speed: 2.09, accuracy: 61.12 %\n",
            "[1,   660] loss: 8.602, speed: 2.09, accuracy: 61.20 %\n",
            "[1,   670] loss: 7.596, speed: 2.09, accuracy: 61.39 %\n",
            "[1,   680] loss: 7.558, speed: 2.09, accuracy: 61.56 %\n",
            "[1,   690] loss: 7.870, speed: 2.09, accuracy: 61.74 %\n",
            "[1,   700] loss: 7.934, speed: 2.09, accuracy: 61.90 %\n",
            "[1,   710] loss: 7.543, speed: 2.09, accuracy: 62.07 %\n",
            "[1,   720] loss: 6.296, speed: 2.09, accuracy: 62.30 %\n",
            "[1,   730] loss: 7.313, speed: 2.09, accuracy: 62.49 %\n",
            "[1,   740] loss: 8.020, speed: 2.09, accuracy: 62.63 %\n",
            "[1,   750] loss: 7.490, speed: 2.09, accuracy: 62.78 %\n",
            "[1,   760] loss: 7.212, speed: 2.09, accuracy: 62.94 %\n",
            "[1,   770] loss: 6.927, speed: 2.09, accuracy: 63.07 %\n",
            "[1,   780] loss: 7.175, speed: 2.09, accuracy: 63.24 %\n",
            "[1,   790] loss: 7.254, speed: 2.09, accuracy: 63.33 %\n",
            "[1,   800] loss: 7.860, speed: 2.09, accuracy: 63.45 %\n",
            "[1,   810] loss: 7.176, speed: 2.09, accuracy: 63.59 %\n",
            "[1,   820] loss: 7.706, speed: 2.09, accuracy: 63.74 %\n",
            "[1,   830] loss: 8.170, speed: 2.09, accuracy: 63.79 %\n",
            "[1,   840] loss: 6.955, speed: 2.09, accuracy: 63.91 %\n",
            "[1,   850] loss: 9.135, speed: 2.09, accuracy: 63.95 %\n",
            "[1,   860] loss: 7.598, speed: 2.09, accuracy: 64.06 %\n",
            "[1,   870] loss: 8.038, speed: 2.09, accuracy: 64.15 %\n",
            "[1,   880] loss: 7.163, speed: 2.09, accuracy: 64.29 %\n",
            "[1,   890] loss: 6.790, speed: 2.09, accuracy: 64.41 %\n",
            "[1,   900] loss: 6.656, speed: 2.09, accuracy: 64.53 %\n",
            "[1,   910] loss: 7.635, speed: 2.09, accuracy: 64.63 %\n",
            "[1,   920] loss: 7.300, speed: 2.09, accuracy: 64.71 %\n",
            "[1,   930] loss: 8.120, speed: 2.09, accuracy: 64.77 %\n",
            "[1,   940] loss: 6.890, speed: 2.09, accuracy: 64.88 %\n",
            "[1,   950] loss: 7.624, speed: 2.09, accuracy: 64.97 %\n",
            "[1,   960] loss: 7.314, speed: 2.09, accuracy: 65.07 %\n",
            "[1,   970] loss: 7.745, speed: 2.09, accuracy: 65.14 %\n",
            "[1,   980] loss: 7.205, speed: 2.09, accuracy: 65.23 %\n",
            "[1,   990] loss: 7.730, speed: 2.09, accuracy: 65.29 %\n",
            "[1,  1000] loss: 7.117, speed: 2.09, accuracy: 65.37 %\n",
            "[1,  1010] loss: 7.833, speed: 2.09, accuracy: 65.45 %\n",
            "[1,  1020] loss: 6.941, speed: 2.09, accuracy: 65.54 %\n",
            "[1,  1030] loss: 6.939, speed: 2.09, accuracy: 65.63 %\n",
            "[1,  1040] loss: 7.356, speed: 2.09, accuracy: 65.71 %\n",
            "[1,  1050] loss: 8.109, speed: 2.09, accuracy: 65.72 %\n",
            "[1,  1060] loss: 6.616, speed: 2.09, accuracy: 65.81 %\n",
            "[1,  1070] loss: 7.000, speed: 2.09, accuracy: 65.85 %\n",
            "[1,  1080] loss: 7.369, speed: 2.09, accuracy: 65.95 %\n",
            "[1,  1090] loss: 6.894, speed: 2.09, accuracy: 66.05 %\n",
            "[1,  1100] loss: 8.446, speed: 2.09, accuracy: 66.10 %\n",
            "[1,  1110] loss: 7.299, speed: 2.09, accuracy: 66.15 %\n",
            "[1,  1120] loss: 7.027, speed: 2.09, accuracy: 66.22 %\n",
            "[1,  1130] loss: 7.150, speed: 2.09, accuracy: 66.26 %\n",
            "[1,  1140] loss: 7.420, speed: 2.09, accuracy: 66.33 %\n",
            "[1,  1150] loss: 7.206, speed: 2.09, accuracy: 66.38 %\n",
            "[1,  1160] loss: 7.440, speed: 2.09, accuracy: 66.44 %\n",
            "[1,  1170] loss: 6.131, speed: 2.09, accuracy: 66.54 %\n",
            "[1,  1180] loss: 7.398, speed: 2.09, accuracy: 66.57 %\n",
            "[1,  1190] loss: 5.717, speed: 2.09, accuracy: 66.69 %\n",
            "[1,  1200] loss: 7.006, speed: 2.09, accuracy: 66.75 %\n",
            "[1,  1210] loss: 7.843, speed: 2.09, accuracy: 66.77 %\n",
            "[1,  1220] loss: 7.806, speed: 2.09, accuracy: 66.80 %\n",
            "[1,  1230] loss: 6.828, speed: 2.09, accuracy: 66.84 %\n",
            "[1,  1240] loss: 6.260, speed: 2.09, accuracy: 66.93 %\n",
            "[1,  1250] loss: 6.978, speed: 2.08, accuracy: 67.00 %\n",
            "[1,  1260] loss: 6.860, speed: 2.09, accuracy: 67.06 %\n",
            "[1,  1270] loss: 8.520, speed: 2.09, accuracy: 67.08 %\n",
            "[1,  1280] loss: 6.294, speed: 2.08, accuracy: 67.14 %\n",
            "[1,  1290] loss: 6.916, speed: 2.09, accuracy: 67.19 %\n",
            "[1,  1300] loss: 7.191, speed: 2.08, accuracy: 67.25 %\n",
            "[1,  1310] loss: 6.590, speed: 2.09, accuracy: 67.31 %\n",
            "[1,  1320] loss: 6.756, speed: 2.09, accuracy: 67.36 %\n",
            "[1,  1330] loss: 7.165, speed: 2.09, accuracy: 67.41 %\n",
            "[1,  1340] loss: 7.239, speed: 2.09, accuracy: 67.47 %\n",
            "[1,  1350] loss: 6.907, speed: 2.09, accuracy: 67.53 %\n",
            "[1,  1360] loss: 6.740, speed: 2.09, accuracy: 67.59 %\n",
            "[1,  1370] loss: 6.643, speed: 2.09, accuracy: 67.64 %\n",
            "[1,  1380] loss: 6.053, speed: 2.08, accuracy: 67.70 %\n",
            "[1,  1390] loss: 7.021, speed: 2.09, accuracy: 67.74 %\n",
            "[1,  1400] loss: 6.748, speed: 2.09, accuracy: 67.81 %\n",
            "[1,  1410] loss: 6.449, speed: 2.08, accuracy: 67.90 %\n",
            "[1,  1420] loss: 7.227, speed: 2.08, accuracy: 67.94 %\n",
            "[1,  1430] loss: 6.736, speed: 2.08, accuracy: 67.99 %\n",
            "[1,  1440] loss: 6.551, speed: 2.08, accuracy: 68.03 %\n",
            "[1,  1450] loss: 7.543, speed: 2.08, accuracy: 68.05 %\n",
            "[1,  1460] loss: 6.218, speed: 2.08, accuracy: 68.12 %\n",
            "[1,  1470] loss: 6.886, speed: 2.08, accuracy: 68.17 %\n",
            "[1,  1480] loss: 7.244, speed: 2.08, accuracy: 68.23 %\n",
            "[1,  1490] loss: 6.883, speed: 2.08, accuracy: 68.27 %\n",
            "[1,  1500] loss: 6.259, speed: 2.08, accuracy: 68.34 %\n",
            "[1,  1510] loss: 6.348, speed: 2.08, accuracy: 68.40 %\n",
            "[1,  1520] loss: 6.722, speed: 2.08, accuracy: 68.44 %\n",
            "[1,  1530] loss: 6.787, speed: 2.08, accuracy: 68.48 %\n",
            "[1,  1540] loss: 6.687, speed: 2.08, accuracy: 68.52 %\n",
            "[1,  1550] loss: 6.243, speed: 2.08, accuracy: 68.59 %\n",
            "[1,  1560] loss: 7.603, speed: 2.08, accuracy: 68.61 %\n",
            "[1,  1570] loss: 6.241, speed: 2.08, accuracy: 68.67 %\n",
            "[1,  1580] loss: 5.920, speed: 2.08, accuracy: 68.75 %\n",
            "[1,  1590] loss: 6.192, speed: 2.08, accuracy: 68.81 %\n",
            "[1,  1600] loss: 7.057, speed: 2.08, accuracy: 68.87 %\n",
            "[1,  1610] loss: 6.547, speed: 2.08, accuracy: 68.92 %\n",
            "[1,  1620] loss: 8.271, speed: 2.08, accuracy: 68.91 %\n",
            "[1,  1630] loss: 6.821, speed: 2.08, accuracy: 68.96 %\n",
            "[1,  1640] loss: 6.413, speed: 2.08, accuracy: 69.02 %\n",
            "[1,  1650] loss: 5.728, speed: 2.08, accuracy: 69.08 %\n",
            "[1,  1660] loss: 6.012, speed: 2.08, accuracy: 69.13 %\n",
            "[1,  1670] loss: 6.631, speed: 2.08, accuracy: 69.17 %\n",
            "[1,  1680] loss: 5.592, speed: 2.08, accuracy: 69.23 %\n",
            "[1,  1690] loss: 5.669, speed: 2.08, accuracy: 69.29 %\n",
            "[1,  1700] loss: 6.586, speed: 2.08, accuracy: 69.35 %\n",
            "[1,  1710] loss: 6.316, speed: 2.08, accuracy: 69.40 %\n",
            "[1,  1720] loss: 5.861, speed: 2.08, accuracy: 69.45 %\n",
            "[1,  1730] loss: 6.364, speed: 2.08, accuracy: 69.49 %\n",
            "[1,  1740] loss: 5.897, speed: 2.08, accuracy: 69.53 %\n",
            "[1,  1750] loss: 7.019, speed: 2.08, accuracy: 69.55 %\n",
            "[1,  1760] loss: 6.029, speed: 2.08, accuracy: 69.59 %\n",
            "[1,  1770] loss: 6.840, speed: 2.07, accuracy: 69.63 %\n",
            "[1,  1780] loss: 6.516, speed: 2.07, accuracy: 69.66 %\n",
            "[1,  1790] loss: 6.291, speed: 2.07, accuracy: 69.70 %\n",
            "[1,  1800] loss: 6.060, speed: 2.07, accuracy: 69.74 %\n",
            "[1,  1810] loss: 5.870, speed: 2.07, accuracy: 69.79 %\n",
            "[1,  1820] loss: 5.759, speed: 2.07, accuracy: 69.85 %\n",
            "[1,  1830] loss: 7.157, speed: 2.07, accuracy: 69.87 %\n",
            "[1,  1840] loss: 6.414, speed: 2.07, accuracy: 69.89 %\n",
            "[1,  1850] loss: 5.922, speed: 2.07, accuracy: 69.94 %\n",
            "[1,  1860] loss: 7.046, speed: 2.07, accuracy: 69.97 %\n",
            "[1,  1870] loss: 6.626, speed: 2.07, accuracy: 70.00 %\n",
            "Testing Model Performance\n",
            "Finished Testing\n",
            "Testing accuracy: 76.2 %\n",
            "Finished Training\n"
          ]
        }
      ]
    },
    {
      "cell_type": "code",
      "source": [],
      "metadata": {
        "id": "zNKn5Afv3wr8"
      },
      "execution_count": null,
      "outputs": []
    },
    {
      "cell_type": "markdown",
      "metadata": {
        "id": "79QnkE-UUySP"
      },
      "source": [
        "Congrats! You successfully trained an image classification model while streaming data directly from the cloud! 🎉"
      ]
    },
    {
      "cell_type": "markdown",
      "metadata": {
        "id": "54ad15b0"
      },
      "source": [
        "# Task\n",
        "Add a new cell at the end of the notebook to display several images from the test set along with their true and predicted labels, including examples where the model's prediction was correct and incorrect."
      ]
    },
    {
      "cell_type": "markdown",
      "metadata": {
        "id": "3da234d0"
      },
      "source": [
        "## Get predictions\n",
        "\n",
        "### Subtask:\n",
        "Obtain a batch of images and labels from the test DataLoader and get the model's predictions for these images.\n"
      ]
    },
    {
      "cell_type": "markdown",
      "metadata": {
        "id": "6397a1de"
      },
      "source": [
        "**Reasoning**:\n",
        "Iterate through the test_loader to get a batch of images and labels, move them to the correct device, get the model's predictions, and determine the predicted class labels.\n",
        "\n"
      ]
    },
    {
      "cell_type": "code",
      "metadata": {
        "id": "b4adcb66"
      },
      "source": [
        "# Get a batch of images and labels from the test loader\n",
        "images, labels = next(iter(test_loader))\n",
        "\n",
        "# Move images and labels to the specified device\n",
        "images = images.to(device)\n",
        "labels = labels.to(device)\n",
        "\n",
        "# Get the model's predictions\n",
        "outputs = net(images)\n",
        "\n",
        "# Get the predicted class labels\n",
        "_, predicted = torch.max(outputs.data, 1)"
      ],
      "execution_count": 56,
      "outputs": []
    },
    {
      "cell_type": "markdown",
      "metadata": {
        "id": "908c727c"
      },
      "source": [
        "## Select examples\n",
        "\n",
        "### Subtask:\n",
        "Identify examples where the model predicted correctly and incorrectly.\n"
      ]
    },
    {
      "cell_type": "markdown",
      "metadata": {
        "id": "af12fda5"
      },
      "source": [
        "**Reasoning**:\n",
        "Identify correct and incorrect predictions and select a small number of indices from each category.\n",
        "\n"
      ]
    },
    {
      "cell_type": "code",
      "metadata": {
        "colab": {
          "base_uri": "https://localhost:8080/"
        },
        "id": "13e23578",
        "outputId": "49b56e0c-262d-4a0c-acd5-066722902a5c"
      },
      "source": [
        "# Create boolean masks for correct and incorrect predictions\n",
        "correct_mask = (predicted == labels)\n",
        "incorrect_mask = ~correct_mask\n",
        "\n",
        "# Get the indices of correct and incorrect predictions\n",
        "correct_indices = torch.where(correct_mask)[0]\n",
        "incorrect_indices = torch.where(incorrect_mask)[0]\n",
        "\n",
        "# Randomly select a small number of indices from each category (e.g., 4)\n",
        "num_examples_to_show = 4\n",
        "selected_correct_indices = correct_indices[torch.randperm(len(correct_indices))[:num_examples_to_show]]\n",
        "selected_incorrect_indices = incorrect_indices[torch.randperm(len(incorrect_indices))[:num_examples_to_show]]\n",
        "\n",
        "# Convert selected indices to lists\n",
        "selected_correct_indices = selected_correct_indices.tolist()\n",
        "selected_incorrect_indices = selected_incorrect_indices.tolist()\n",
        "\n",
        "print(\"Selected correct indices:\", selected_correct_indices)\n",
        "print(\"Selected incorrect indices:\", selected_incorrect_indices)"
      ],
      "execution_count": 57,
      "outputs": [
        {
          "output_type": "stream",
          "name": "stdout",
          "text": [
            "Selected correct indices: [20, 9, 7, 0]\n",
            "Selected incorrect indices: [17, 29, 26, 21]\n"
          ]
        }
      ]
    },
    {
      "cell_type": "markdown",
      "metadata": {
        "id": "4be6ae23"
      },
      "source": [
        "## Visualize results\n",
        "\n",
        "### Subtask:\n",
        "Display the selected images along with their true and predicted labels.\n"
      ]
    },
    {
      "cell_type": "markdown",
      "metadata": {
        "id": "36e8c745"
      },
      "source": [
        "**Reasoning**:\n",
        "Display the selected correct and incorrect predictions with their true and predicted labels.\n",
        "\n"
      ]
    },
    {
      "cell_type": "code",
      "metadata": {
        "colab": {
          "base_uri": "https://localhost:8080/",
          "height": 610
        },
        "id": "794fc005",
        "outputId": "33459776-00df-402d-97e3-1b0f8206beae"
      },
      "source": [
        "import matplotlib.pyplot as plt\n",
        "\n",
        "# Create a figure and subplots\n",
        "fig, axes = plt.subplots(2, num_examples_to_show, figsize=(12, 6))\n",
        "fig.suptitle(\"Model Predictions: Correct and Incorrect Examples\")\n",
        "\n",
        "# Display correct predictions\n",
        "for i, idx in enumerate(selected_correct_indices):\n",
        "    img = images[idx].detach().cpu().numpy().transpose(1, 2, 0)\n",
        "    true_label = ds_train.classes[labels[idx].item()]\n",
        "    predicted_label = ds_train.classes[predicted[idx].item()]\n",
        "\n",
        "    ax = axes[0, i]\n",
        "    ax.imshow(img.squeeze(), cmap='gray')\n",
        "    ax.set_title(f\"True: {true_label}\\nPred: {predicted_label}\", color='green')\n",
        "    ax.axis('off')\n",
        "\n",
        "# Display incorrect predictions\n",
        "for i, idx in enumerate(selected_incorrect_indices):\n",
        "    img = images[idx].detach().cpu().numpy().transpose(1, 2, 0)\n",
        "    true_label = ds_train.classes[labels[idx].item()]\n",
        "    predicted_label = ds_train.classes[predicted[idx].item()]\n",
        "\n",
        "    ax = axes[1, i]\n",
        "    ax.imshow(img.squeeze(), cmap='gray')\n",
        "    ax.set_title(f\"True: {true_label}\\nPred: {predicted_label}\", color='red')\n",
        "    ax.axis('off')\n",
        "\n",
        "plt.tight_layout()\n",
        "plt.show()"
      ],
      "execution_count": 58,
      "outputs": [
        {
          "output_type": "display_data",
          "data": {
            "text/plain": [
              "<Figure size 1200x600 with 8 Axes>"
            ],
            "image/png": "[encoded data removed]"
          },
          "metadata": {}
        }
      ]
    },
    {
      "cell_type": "markdown",
      "metadata": {
        "id": "c48575d9"
      },
      "source": [
        "## Summary:\n",
        "\n",
        "### Data Analysis Key Findings\n",
        "\n",
        "*   A batch of images and labels was successfully obtained from the test DataLoader.\n",
        "*   The model generated predictions for these images.\n",
        "*   Boolean masks were created to identify correct and incorrect predictions by comparing predicted labels with true labels.\n",
        "*   Indices for both correct and incorrect predictions were extracted.\n",
        "*   A random selection of 4 indices from the correct predictions and 4 indices from the incorrect predictions was made.\n",
        "*   The selected images corresponding to these indices were displayed using matplotlib.\n",
        "*   Each displayed image included a title showing the true label and the predicted label, with correct predictions labeled in green and incorrect predictions in red.\n",
        "\n",
        "### Insights or Next Steps\n",
        "\n",
        "*   Analyzing the specific incorrect predictions (e.g., image characteristics, true vs. predicted classes) could provide insights into where the model struggles.\n",
        "*   Expanding the visualization to include more examples or different types of errors could offer a broader understanding of model performance.\n"
      ]
    }
  ]
}